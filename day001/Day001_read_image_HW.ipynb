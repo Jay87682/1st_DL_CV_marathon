{
 "nbformat": 4,
 "nbformat_minor": 2,
 "metadata": {
  "language_info": {
   "name": "python",
   "codemirror_mode": {
    "name": "ipython",
    "version": 3
   },
   "version": "3.7.5"
  },
  "orig_nbformat": 2,
  "file_extension": ".py",
  "mimetype": "text/x-python",
  "name": "python",
  "npconvert_exporter": "python",
  "pygments_lexer": "ipython3",
  "version": 3
 },
 "cells": [
  {
   "cell_type": "code",
   "execution_count": 1,
   "metadata": {},
   "outputs": [],
   "source": [
    "import numpy as np\n",
    "import cv2\n",
    "\n",
    "data = './data/lena.png'\n",
    "img_color = cv2.imread(data, cv2.IMREAD_COLOR)\n",
    "img_gray = cv2.imread(data, cv2.IMREAD_GRAYSCALE)\n",
    "\n",
    "if img_color is not None and img_gray is not None:\n",
    "    cv2.imshow('color', img_color)\n",
    "    cv2.imshow('gray', img_gray)\n",
    "    cv2.waitKey(0)\n",
    "    cv2.destroyAllWindows()\n"
   ]
  }
 ]
}